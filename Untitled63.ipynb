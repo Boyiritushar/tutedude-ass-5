{
  "nbformat": 4,
  "nbformat_minor": 0,
  "metadata": {
    "colab": {
      "provenance": [],
      "authorship_tag": "ABX9TyMUgNrgM1cvFL1aUG1UNRLV",
      "include_colab_link": true
    },
    "kernelspec": {
      "name": "python3",
      "display_name": "Python 3"
    },
    "language_info": {
      "name": "python"
    }
  },
  "cells": [
    {
      "cell_type": "markdown",
      "metadata": {
        "id": "view-in-github",
        "colab_type": "text"
      },
      "source": [
        "<a href=\"https://colab.research.google.com/github/Boyiritushar/tutedude-ass-5/blob/main/Untitled63.ipynb\" target=\"_parent\"><img src=\"https://colab.research.google.com/assets/colab-badge.svg\" alt=\"Open In Colab\"/></a>"
      ]
    },
    {
      "cell_type": "markdown",
      "source": [
        "# assignment **5**\n",
        "\n"
      ],
      "metadata": {
        "id": "Xn8NoMvKBuDF"
      }
    },
    {
      "cell_type": "markdown",
      "source": [
        "task 1 Create a Dictionary of Student Marks\n"
      ],
      "metadata": {
        "id": "N9TiGH1yDG3J"
      }
    },
    {
      "cell_type": "markdown",
      "source": [
        "student details not found"
      ],
      "metadata": {
        "id": "dC0PR6U9Bqex"
      }
    },
    {
      "cell_type": "code",
      "execution_count": 12,
      "metadata": {
        "colab": {
          "base_uri": "https://localhost:8080/"
        },
        "id": "50XYtKF9AOJG",
        "outputId": "e9c60e17-5fff-4d48-9e5c-ca357fbfb120"
      },
      "outputs": [
        {
          "output_type": "stream",
          "name": "stdout",
          "text": [
            "enter the name of the student : harsha\n",
            "student details not found\n"
          ]
        }
      ],
      "source": [
        "student_marks = {'tushar':99 , 'kimaya':84 , 'bhavika':83 , 'vishal':94}\n",
        "enter_name=input(\"enter the name of the student : \")\n",
        "if enter_name in student_marks:\n",
        "  print(enter_name , \"marks are\" , student_marks[enter_name])\n",
        "else:\n",
        "  print(\"student details not found\")"
      ]
    },
    {
      "cell_type": "markdown",
      "source": [
        "student details found"
      ],
      "metadata": {
        "id": "MEJrdRaOBkRf"
      }
    },
    {
      "cell_type": "code",
      "source": [
        "student_marks = {'tushar':99 , 'kimaya':84 , 'bhavika':83 , 'vishal':94}\n",
        "enter_name=input(\"enter the name of the student : \")\n",
        "if enter_name in student_marks:\n",
        "  print(enter_name , \"marks are\" , student_marks[enter_name])\n",
        "else:\n",
        "  print(\"student details not found\")"
      ],
      "metadata": {
        "colab": {
          "base_uri": "https://localhost:8080/"
        },
        "id": "jk28VX3TBnDa",
        "outputId": "81b8d6de-3792-4c51-f54c-4a4c9bf2bc42"
      },
      "execution_count": 6,
      "outputs": [
        {
          "output_type": "stream",
          "name": "stdout",
          "text": [
            "enter the name of the student : tushar\n",
            "tushar marks are 99\n"
          ]
        }
      ]
    },
    {
      "cell_type": "markdown",
      "source": [
        "##  list slicing task **2**"
      ],
      "metadata": {
        "id": "GuEaduM8B6n7"
      }
    },
    {
      "cell_type": "code",
      "source": [
        "numbers=[1,2,3,4,5,6,7,8,9,10]\n",
        "print(\"original list :\",numbers)\n",
        "ex=(numbers[:5])\n",
        "print(\"extracted first five elements :\",ex)\n",
        "reverse=(numbers[::-1])\n",
        "print(\"reversed list :\",reverse)\n",
        "\n"
      ],
      "metadata": {
        "colab": {
          "base_uri": "https://localhost:8080/"
        },
        "id": "mqbSymHLB8zb",
        "outputId": "e12ffb08-7e28-44a1-e764-c676e76fef32"
      },
      "execution_count": 11,
      "outputs": [
        {
          "output_type": "stream",
          "name": "stdout",
          "text": [
            "original list : [1, 2, 3, 4, 5, 6, 7, 8, 9, 10]\n",
            "extracted first five elements : [1, 2, 3, 4, 5]\n",
            "reversed list : [10, 9, 8, 7, 6, 5, 4, 3, 2, 1]\n"
          ]
        }
      ]
    },
    {
      "cell_type": "code",
      "source": [],
      "metadata": {
        "id": "clNji4z7FQ5p"
      },
      "execution_count": null,
      "outputs": []
    }
  ]
}